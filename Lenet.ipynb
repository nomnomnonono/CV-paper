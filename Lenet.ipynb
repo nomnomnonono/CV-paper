{
  "nbformat": 4,
  "nbformat_minor": 5,
  "metadata": {
    "kernelspec": {
      "display_name": "Python 3 (ipykernel)",
      "language": "python",
      "name": "python3"
    },
    "language_info": {
      "codemirror_mode": {
        "name": "ipython",
        "version": 3
      },
      "file_extension": ".py",
      "mimetype": "text/x-python",
      "name": "python",
      "nbconvert_exporter": "python",
      "pygments_lexer": "ipython3",
      "version": "3.9.6"
    },
    "colab": {
      "name": "Lenet.ipynb",
      "provenance": [],
      "collapsed_sections": [],
      "include_colab_link": true
    }
  },
  "cells": [
    {
      "cell_type": "markdown",
      "metadata": {
        "id": "view-in-github",
        "colab_type": "text"
      },
      "source": [
        "<a href=\"https://colab.research.google.com/github/nomnomnonono/CV-paper/blob/main/Lenet.ipynb\" target=\"_parent\"><img src=\"https://colab.research.google.com/assets/colab-badge.svg\" alt=\"Open In Colab\"/></a>"
      ]
    },
    {
      "cell_type": "code",
      "metadata": {
        "id": "02f1a14c"
      },
      "source": [
        "from keras.callbacks import TensorBoard\n",
        "from keras.datasets import mnist\n",
        "from keras.models import Sequential\n",
        "from keras.layers import Dense, Conv2D, MaxPool2D, Flatten\n",
        "from keras.optimizers import SGD\n",
        "from keras.utils import np_utils\n",
        "import os\n",
        "import sys\n",
        "sys.path.append('../')\n",
        "from functions import setseed, display"
      ],
      "id": "02f1a14c",
      "execution_count": null,
      "outputs": []
    },
    {
      "cell_type": "code",
      "metadata": {
        "id": "0d9fb07b"
      },
      "source": [
        "setseed.set_seed(42)"
      ],
      "id": "0d9fb07b",
      "execution_count": null,
      "outputs": []
    },
    {
      "cell_type": "code",
      "metadata": {
        "id": "92d515db"
      },
      "source": [
        "try:\n",
        "    __file__\n",
        "except NameError:\n",
        "    __file__ = os.path.join(os.getcwd(),\"dummy\")\n",
        "else:\n",
        "    pass"
      ],
      "id": "92d515db",
      "execution_count": null,
      "outputs": []
    },
    {
      "cell_type": "code",
      "metadata": {
        "id": "e2334101"
      },
      "source": [
        "class MnistDataset:\n",
        "    def __init__(self):\n",
        "        self.num_class = 10\n",
        "        self.img_shape = (28, 28,1)\n",
        "    \n",
        "    def preprocess(self, data, label=False):\n",
        "        if label:\n",
        "            data = np_utils.to_categorical(data, self.num_class)\n",
        "        else:\n",
        "            data = data.astype('float32')\n",
        "            data /= 255\n",
        "            data = data.reshape((data.shape[0],)+self.img_shape)\n",
        "        return data\n",
        "    \n",
        "    def get_data(self):\n",
        "        (x_train, y_train), (x_test, y_test) = mnist.load_data()\n",
        "        x_train, x_test = [self.preprocess(x) for x in (x_train, x_test)]\n",
        "        y_train, y_test = [self.preprocess(y, label=True) for y in (y_train, y_test)]\n",
        "        return x_train, y_train, x_test, y_test"
      ],
      "id": "e2334101",
      "execution_count": null,
      "outputs": []
    },
    {
      "cell_type": "code",
      "metadata": {
        "id": "d60b73fe"
      },
      "source": [
        "def LeNet(input_shape, num_class):\n",
        "    model = Sequential()\n",
        "    model.add(Conv2D(6, kernel_size=5, padding='same', input_shape=input_shape, activation='tanh'))\n",
        "    model.add(MaxPool2D(pool_size=(2,2)))\n",
        "    model.add(Conv2D(16, kernel_size=5, padding='same', activation='tanh'))\n",
        "    model.add(MaxPool2D(pool_size=(2,2)))\n",
        "    model.add(Flatten())\n",
        "    model.add(Dense(120, activation='tanh'))\n",
        "    model.add(Dense(84, activation='tanh'))\n",
        "    model.add(Dense(num_class, activation='softmax'))\n",
        "    return model"
      ],
      "id": "d60b73fe",
      "execution_count": null,
      "outputs": []
    },
    {
      "cell_type": "code",
      "metadata": {
        "id": "85a44fd4"
      },
      "source": [
        "class Trainer:\n",
        "    def __init__(self, model, loss, optimizer, log_dir='logs'):\n",
        "        self.model = model\n",
        "        self.model.compile(loss=loss, optimizer=optimizer, metrics=[\"accuracy\"])\n",
        "        self.log_dir = os.path.join(os.path.dirname(__file__), log_dir)\n",
        "        if not os.path.exists(self.log_dir):\n",
        "            os.mkdir(self.log_dir)\n",
        "    \n",
        "    def train(self, x_train, y_train, batch_size, epochs, validation_split):\n",
        "        if os.path.exists(self.log_dir):\n",
        "            import shutil\n",
        "            shutil.rmtree(self.log_dir)\n",
        "        os.mkdir(self.log_dir)\n",
        "        self.history = self.model.fit(x_train, y_train, batch_size=batch_size, epochs=epochs,\n",
        "                      validation_split=validation_split,\n",
        "                      callbacks=[TensorBoard(log_dir=self.log_dir)], verbose=1)"
      ],
      "id": "85a44fd4",
      "execution_count": null,
      "outputs": []
    },
    {
      "cell_type": "code",
      "metadata": {
        "id": "cb3cc256",
        "outputId": "bb24cc91-3e28-423a-907e-9c96ae15e787"
      },
      "source": [
        "dataset = MnistDataset()\n",
        "model = LeNet(dataset.img_shape, dataset.num_class)\n",
        "x_train, y_train, x_test, y_test = dataset.get_data()\n",
        "trainer = Trainer(model, loss=\"categorical_crossentropy\", optimizer=\"Adam\")\n",
        "trainer.train(x_train, y_train, batch_size=128, epochs=12, validation_split=0.2)"
      ],
      "id": "cb3cc256",
      "execution_count": null,
      "outputs": [
        {
          "name": "stdout",
          "output_type": "stream",
          "text": [
            "Epoch 1/12\n",
            "375/375 [==============================] - 36s 61ms/step - loss: 0.5772 - accuracy: 0.8404 - val_loss: 0.0824 - val_accuracy: 0.9767\n",
            "Epoch 2/12\n",
            "375/375 [==============================] - 25s 68ms/step - loss: 0.0771 - accuracy: 0.9777 - val_loss: 0.0655 - val_accuracy: 0.9803\n",
            "Epoch 3/12\n",
            "375/375 [==============================] - 26s 71ms/step - loss: 0.0498 - accuracy: 0.9852 - val_loss: 0.0511 - val_accuracy: 0.9843\n",
            "Epoch 4/12\n",
            "375/375 [==============================] - 25s 68ms/step - loss: 0.0357 - accuracy: 0.9893 - val_loss: 0.0490 - val_accuracy: 0.9855\n",
            "Epoch 5/12\n",
            "375/375 [==============================] - 29s 76ms/step - loss: 0.0266 - accuracy: 0.9920 - val_loss: 0.0503 - val_accuracy: 0.9850\n",
            "Epoch 6/12\n",
            "375/375 [==============================] - 26s 70ms/step - loss: 0.0195 - accuracy: 0.9943 - val_loss: 0.0483 - val_accuracy: 0.9857\n",
            "Epoch 7/12\n",
            "375/375 [==============================] - 26s 69ms/step - loss: 0.0124 - accuracy: 0.9968 - val_loss: 0.0470 - val_accuracy: 0.9868\n",
            "Epoch 8/12\n",
            "375/375 [==============================] - 25s 66ms/step - loss: 0.0123 - accuracy: 0.9967 - val_loss: 0.0468 - val_accuracy: 0.9880\n",
            "Epoch 9/12\n",
            "375/375 [==============================] - 28s 74ms/step - loss: 0.0086 - accuracy: 0.9978 - val_loss: 0.0532 - val_accuracy: 0.9860\n",
            "Epoch 10/12\n",
            "375/375 [==============================] - 26s 69ms/step - loss: 0.0072 - accuracy: 0.9977 - val_loss: 0.0519 - val_accuracy: 0.9868\n",
            "Epoch 11/12\n",
            "375/375 [==============================] - 26s 69ms/step - loss: 0.0051 - accuracy: 0.9988 - val_loss: 0.0454 - val_accuracy: 0.9881\n",
            "Epoch 12/12\n",
            "375/375 [==============================] - 28s 75ms/step - loss: 0.0030 - accuracy: 0.9994 - val_loss: 0.0498 - val_accuracy: 0.9872\n"
          ]
        }
      ]
    },
    {
      "cell_type": "code",
      "metadata": {
        "id": "b57dc278",
        "outputId": "2917c66e-5e65-4e2d-d8a5-787951ed8f3c"
      },
      "source": [
        "display.learning_history(trainer.history, 12, 'loss', 'accuracy')"
      ],
      "id": "b57dc278",
      "execution_count": null,
      "outputs": [
        {
          "data": {
            "image/png": "[encoded data removed]",
            "text/plain": [
              "<Figure size 864x432 with 2 Axes>"
            ]
          },
          "metadata": {
            "needs_background": "light"
          },
          "output_type": "display_data"
        }
      ]
    }
  ]
}